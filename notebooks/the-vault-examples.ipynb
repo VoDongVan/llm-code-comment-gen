{
 "cells": [
  {
   "cell_type": "markdown",
   "id": "882c787f-8a93-4211-91c4-487e00c5e243",
   "metadata": {},
   "source": [
    "Explore the vault dataset. The Vault has 3 sub-dataset: Class, Method and Inline."
   ]
  },
  {
   "cell_type": "markdown",
   "id": "652c0fef-d0c8-4e4e-ad5b-7e9c65f9f42b",
   "metadata": {},
   "source": [
    "### THE VAULT FUNCTION"
   ]
  },
  {
   "cell_type": "code",
   "execution_count": 1,
   "id": "516dfc17",
   "metadata": {},
   "outputs": [
    {
     "name": "stdout",
     "output_type": "stream",
     "text": [
      "/Users/dongvanvo/.cache/huggingface/datasets\n"
     ]
    }
   ],
   "source": [
    "from datasets import config\n",
    "\n",
    "print(config.HF_DATASETS_CACHE)"
   ]
  },
  {
   "cell_type": "code",
   "execution_count": 2,
   "id": "35b8dc61-f4ce-44db-b961-18cd62469cc2",
   "metadata": {
    "scrolled": true
   },
   "outputs": [
    {
     "data": {
      "application/vnd.jupyter.widget-view+json": {
       "model_id": "f91d43473d6740bba29717ddca655da2",
       "version_major": 2,
       "version_minor": 0
      },
      "text/plain": [
       "README.md:   0%|          | 0.00/11.3k [00:00<?, ?B/s]"
      ]
     },
     "metadata": {},
     "output_type": "display_data"
    },
    {
     "data": {
      "application/vnd.jupyter.widget-view+json": {
       "model_id": "749471d63c6a40c38351d972cc445988",
       "version_major": 2,
       "version_minor": 0
      },
      "text/plain": [
       "the-vault-function.py:   0%|          | 0.00/15.0k [00:00<?, ?B/s]"
      ]
     },
     "metadata": {},
     "output_type": "display_data"
    },
    {
     "data": {
      "application/vnd.jupyter.widget-view+json": {
       "model_id": "3c95b9c839394bdaae245d634e724ef3",
       "version_major": 2,
       "version_minor": 0
      },
      "text/plain": [
       "java-00000-of-00002.parquet:   0%|          | 0.00/189M [00:00<?, ?B/s]"
      ]
     },
     "metadata": {},
     "output_type": "display_data"
    },
    {
     "data": {
      "application/vnd.jupyter.widget-view+json": {
       "model_id": "5345e1b00d9649d4aceda84b611dd300",
       "version_major": 2,
       "version_minor": 0
      },
      "text/plain": [
       "java-00001-of-00002.parquet:   0%|          | 0.00/196M [00:00<?, ?B/s]"
      ]
     },
     "metadata": {},
     "output_type": "display_data"
    },
    {
     "data": {
      "application/vnd.jupyter.widget-view+json": {
       "model_id": "bf2450010f2a4573b6bbdef87d2a1ab3",
       "version_major": 2,
       "version_minor": 0
      },
      "text/plain": [
       "Generating train_small split: 0 examples [00:00, ? examples/s]"
      ]
     },
     "metadata": {},
     "output_type": "display_data"
    },
    {
     "data": {
      "text/plain": [
       "DatasetDict({\n",
       "    train_small: Dataset({\n",
       "        features: ['hexsha', 'repo', 'path', 'license', 'language', 'identifier', 'return_type', 'original_string', 'original_docstring', 'docstring', 'docstring_tokens', 'code', 'code_tokens', 'short_docstring', 'short_docstring_tokens', 'comment', 'parameters', 'docstring_params'],\n",
       "        num_rows: 351213\n",
       "    })\n",
       "})"
      ]
     },
     "execution_count": 2,
     "metadata": {},
     "output_type": "execute_result"
    }
   ],
   "source": [
    "from datasets import load_dataset\n",
    "\n",
    "dataset = load_dataset(\"Fsoft-AIC/the-vault-function\", split_set=[\"train/small\"], languages=[\"java\"], streaming=False)\n",
    "dataset"
   ]
  },
  {
   "cell_type": "code",
   "execution_count": null,
   "id": "02f0d6a6-3d03-477a-ab28-9577a8ebddc2",
   "metadata": {
    "scrolled": true
   },
   "outputs": [],
   "source": [
    "i = 0\n",
    "for sample in iter(dataset['train_small']): \n",
    "    code = sample['code']\n",
    "    docstring = sample['docstring']\n",
    "    project_name = sample['repo']\n",
    "    method_name = sample['identifier']\n",
    "    print(f\"Method '{method_name}' of project '{project_name}'\")\n",
    "    print(f\"comment:\\n{docstring}\")\n",
    "    print(code)\n",
    "    i += 1\n",
    "    if i >= 100:\n",
    "        break"
   ]
  },
  {
   "cell_type": "markdown",
   "id": "9ebea005-030d-4e21-b4df-c1156fe7ff3e",
   "metadata": {},
   "source": [
    "Process The Vault function: <br>\n",
    "The Vault function has these data fields: <br>\n",
    "    hexsha (string): the unique git hash of file <br>\n",
    "    repo (string): the owner/repo <br>\n",
    "    path (string): the full path to the original file <br>\n",
    "    license (list): licenses in the repo <br>\n",
    "    language (string): the programming language <br>\n",
    "    identifier (string): the function or method name <br>\n",
    "    return_type (string): the type returned by the function <br>\n",
    "    original_string (string): original version of function/class node <br>\n",
    "    original_docstring (string): the raw string before tokenization or parsing <br>\n",
    "    code (string): the part of the original that is code <br>\n",
    "    code_tokens (list): tokenized version of code <br>\n",
    "    short_docstring (string): short, brief summarization (first line of the docstring) <br>\n",
    "    short_docstring_tokens (list): tokenized version of `short_docstring <br>\n",
    "    docstring (string): the top-level comment or docstring (docstring version without param’s doc, return, exception fields, etc) <br>\n",
    "    docstring_tokens (list): tokenized version of docstring <br>\n",
    "    comment (list): list of comments (line) inside the function/class <br>\n",
    "    parameters (list): List of parameters and its type (type can be None) <br>\n",
    "    docstring_params (dict): Dictionary of the parsed information from docstring <br>\n",
    "My plan for preprocessing function should accept these option: <br>\n",
    "- split_set: split_set option in The Vault dataset on huggingface <br>\n",
    "- languages option: This is also an option in The Vault. Separate each language in different JSON object if there are multiple language <br>\n",
    "- streaming option: streamming option in The Vault dataset on huggingface <br>\n",
    "- num_proj option: custom option. Keep maximum of num_proj only. Cannot be used together with num_method.\n",
    "- num_method option: custom option. Keep maximum of num_method only. Cannot be used together with num_proj.\n",
    "- JSON object contains code, code_tokens, docstring, repo, and identifier."
   ]
  },
  {
   "cell_type": "code",
   "execution_count": null,
   "id": "c40e0372-1a2e-4e53-91c9-d8f8d355dac7",
   "metadata": {},
   "outputs": [],
   "source": [
    "from datasets import load_dataset\n",
    "from collections import defaultdict\n",
    "import json\n",
    "import os\n",
    "\n",
    "def the_vault_function_to_json(\n",
    "    split_set=\"train\",\n",
    "    languages=[\"java\"],\n",
    "    streaming=True,\n",
    "    num_proj=None,\n",
    "    num_method=None,\n",
    "    write_to_file=False,\n",
    "    output_dir=\"data/vault_function_json\"\n",
    "):\n",
    "    assert not (num_proj and num_method), \"Cannot use both num_proj and num_method\"\n",
    "\n",
    "    if write_to_file:\n",
    "        os.makedirs(output_dir, exist_ok=True)\n",
    "\n",
    "    data_lang = {}\n",
    "    for lang in languages:\n",
    "        dataset = load_dataset(\"Fsoft-AIC/the-vault-function\", split_set=[split_set], languages=[lang], streaming=streaming)\n",
    "        if split_set == \"train/small\":\n",
    "            split_set = \"train_small\"\n",
    "        elif split_set == \"train/medium\":\n",
    "            split_set = \"train_medium\"\n",
    "        dataset = dataset[split_set]\n",
    "        print(f\"Loaded {lang}, split={split_set}, streaming={streaming}\")\n",
    "\n",
    "        data = []\n",
    "        proj_counts = defaultdict(int)\n",
    "        seen_projects = set()\n",
    "        for sample in dataset:\n",
    "            if num_proj and len(seen_projects) >= num_proj:\n",
    "                break\n",
    "            if num_method and len(data) >= num_method:\n",
    "                break\n",
    "            item = {\n",
    "                \"code\": sample[\"code\"],\n",
    "                \"code_tokens\": sample[\"code_tokens\"]\n",
    "                \"docstring\": sample[\"docstring\"],\n",
    "                \"project\": sample[\"repo\"],\n",
    "                \"name\": sample[\"identifier\"]\n",
    "            }\n",
    "            data.append(item)\n",
    "            project = item[\"project\"]\n",
    "            if num_proj:\n",
    "                seen_projects.add(project)\n",
    "            proj_counts[project] += 1\n",
    "\n",
    "        print(f\"{lang} - collected {len(data)} samples across {len(seen_projects)} projects\")\n",
    "\n",
    "        if write_to_file:\n",
    "            output_path = os.path.join(output_dir, f\"{lang}_{split_set}.jsonl\")\n",
    "            with open(output_path, \"w\") as f:\n",
    "                for item in data:\n",
    "                    f.write(json.dumps(item) + \"\\n\")\n",
    "            print(f\"Saved to {output_path}\")\n",
    "        data_lang[lang] = data\n",
    "    return data_lang"
   ]
  },
  {
   "cell_type": "code",
   "execution_count": null,
   "id": "48302f00-ed9a-489c-88c3-7903e33f7e1d",
   "metadata": {
    "scrolled": true
   },
   "outputs": [],
   "source": [
    "data_lang = preprocess_the_vault_function(split_set=\"train/small\", languages=[\"java\"], num_proj=100)\n",
    "print(data_lang)"
   ]
  },
  {
   "cell_type": "markdown",
   "id": "dbc6b74f-c9b2-4f04-b4b8-7722eecdc4f0",
   "metadata": {},
   "source": [
    "### THE VAULT INLINE"
   ]
  },
  {
   "cell_type": "code",
   "execution_count": null,
   "id": "2955ae65-09c1-40bb-a99e-00cfc56097ea",
   "metadata": {},
   "outputs": [],
   "source": [
    "from datasets import load_dataset\n",
    "\n",
    "dataset = load_dataset(\"Fsoft-AIC/the-vault-inline\", languages=[\"java\"], streaming=False)\n",
    "dataset"
   ]
  },
  {
   "cell_type": "code",
   "execution_count": null,
   "id": "0f7002cb-7d1a-40b2-abd5-d6c4d613daf4",
   "metadata": {
    "scrolled": true
   },
   "outputs": [],
   "source": [
    "i = 0\n",
    "prev_method_name = None\n",
    "for sample in dataset['train']:\n",
    "    code = sample['code']\n",
    "    comment = sample['comment']\n",
    "    method_name = sample['identifier']\n",
    "    if method_name != prev_method_name:\n",
    "        print(\"\\n\")\n",
    "        print(code)\n",
    "    prev_context = sample['prev_context']\n",
    "    next_context = sample['next_context']\n",
    "    print(f\"{comment}\")\n",
    "    prev_method_name = method_name\n",
    "    i += 1\n",
    "    if i >= 100:\n",
    "        break"
   ]
  },
  {
   "cell_type": "markdown",
   "id": "40a7e5b1-f88e-4dcc-86da-f847fef557ad",
   "metadata": {},
   "source": [
    "### THE VAULT CLASS"
   ]
  },
  {
   "cell_type": "code",
   "execution_count": null,
   "id": "9d46cd02-4d6a-4e85-869c-c0e4848eadc8",
   "metadata": {
    "scrolled": true
   },
   "outputs": [],
   "source": [
    "from datasets import load_dataset\n",
    "\n",
    "dataset = load_dataset(\"Fsoft-AIC/the-vault-class\", languages=['java'], streaming=True)\n",
    "dataset"
   ]
  },
  {
   "cell_type": "code",
   "execution_count": null,
   "id": "42ee9840-6d1e-4fe7-9fa1-71b4cd495060",
   "metadata": {
    "scrolled": true
   },
   "outputs": [],
   "source": [
    "i = 0\n",
    "for sample in dataset['train']:\n",
    "    code = sample['code']\n",
    "    docstring = sample['docstring']\n",
    "    project_name = sample['repo']\n",
    "    method_name = sample['identifier']\n",
    "    print(f\"Class '{method_name}' of project '{project_name}'\")\n",
    "    print(f\"comment:\\n{docstring}\")\n",
    "    print(code)\n",
    "    i += 1\n",
    "    if i >= 100:\n",
    "        break"
   ]
  },
  {
   "cell_type": "code",
   "execution_count": null,
   "id": "a2db3abe-3732-4633-886d-6bbaf7ed6ce6",
   "metadata": {},
   "outputs": [],
   "source": []
  }
 ],
 "metadata": {
  "kernelspec": {
   "display_name": "Python 3 (ipykernel)",
   "language": "python",
   "name": "python3"
  },
  "language_info": {
   "codemirror_mode": {
    "name": "ipython",
    "version": 3
   },
   "file_extension": ".py",
   "mimetype": "text/x-python",
   "name": "python",
   "nbconvert_exporter": "python",
   "pygments_lexer": "ipython3",
   "version": "3.11.5"
  }
 },
 "nbformat": 4,
 "nbformat_minor": 5
}
