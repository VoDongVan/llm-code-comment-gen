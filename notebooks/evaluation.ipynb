{
 "cells": [
  {
   "cell_type": "code",
   "execution_count": null,
   "id": "3317d4e5",
   "metadata": {},
   "outputs": [],
   "source": [
    "from models.llm import load_model, generate_comments, prepare_prompt\n",
    "\n",
    "# Load model and tokenizer\n",
    "model_name = \"codellama/CodeLlama-7b-Instruct-hf\"\n",
    "model, tokenizer = load_model(model_name)\n",
    "\n",
    "# Sample test input\n",
    "test_input = {\"prev_context\": \"def add(a, b):\", \"next_context\": \"    return a + b\", \"code\": \"def add(a, b):\\n    return a + b\"}\n",
    "\n",
    "# Test different prompt strategies\n",
    "prompt_types = [\"zero-shot\", \"few-shot\", \"cot\", \"critique\", \"expert_prompt\"]\n",
    "\n",
    "for prompt_type in prompt_types:\n",
    "    print(f\"\\nTesting {prompt_type} Prompt Strategy:\")\n",
    "    prompt = prepare_prompt(test_input, \"inline\", prompt_type=prompt_type)\n",
    "    comments = generate_comments(model, tokenizer, prompt, prompt_type=prompt_type)\n",
    "    print(f\"Generated Comments:\\n{comments}\")"
   ]
  }
 ],
 "metadata": {
  "kernelspec": {
   "display_name": "Python 3 (ipykernel)",
   "language": "python",
   "name": "python3"
  },
  "language_info": {
   "codemirror_mode": {
    "name": "ipython",
    "version": 3
   },
   "file_extension": ".py",
   "mimetype": "text/x-python",
   "name": "python",
   "nbconvert_exporter": "python",
   "pygments_lexer": "ipython3",
   "version": "3.11.5"
  }
 },
 "nbformat": 4,
 "nbformat_minor": 5
}
